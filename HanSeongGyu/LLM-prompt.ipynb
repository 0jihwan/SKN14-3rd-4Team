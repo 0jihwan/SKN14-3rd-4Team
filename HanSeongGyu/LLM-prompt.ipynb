{
 "cells": [
  {
   "cell_type": "code",
   "execution_count": 1,
   "metadata": {
    "ExecuteTime": {
     "end_time": "2025-07-16T03:02:02.989082Z",
     "start_time": "2025-07-16T03:02:01.280999Z"
    },
    "executionInfo": {
     "elapsed": 7257,
     "status": "ok",
     "timestamp": 1752635017583,
     "user": {
      "displayName": "seongkyu han",
      "userId": "12944266547765922383"
     },
     "user_tz": -540
    },
    "id": "9X_-YZlWa-fz"
   },
   "outputs": [
    {
     "name": "stdout",
     "output_type": "stream",
     "text": [
      "Note: you may need to restart the kernel to use updated packages.\n"
     ]
    }
   ],
   "source": [
    "%pip install langchain-community langchain-pinecone langchain-openai pinecone python-dotenv  -q\n",
    "# from google.colab import userdata\n",
    "import os\n",
    "import ast"
   ]
  },
  {
   "cell_type": "code",
   "execution_count": 2,
   "metadata": {
    "ExecuteTime": {
     "end_time": "2025-07-16T03:02:03.472022Z",
     "start_time": "2025-07-16T03:02:03.065599Z"
    },
    "executionInfo": {
     "elapsed": 2726,
     "status": "ok",
     "timestamp": 1752635020323,
     "user": {
      "displayName": "seongkyu han",
      "userId": "12944266547765922383"
     },
     "user_tz": -540
    },
    "id": "EayJM-kThFkL"
   },
   "outputs": [],
   "source": [
    "# os.environ['LANGSMITH_TRACING'] = userdata.get('LANGSMITH_TRACING')\n",
    "# os.environ['LANGSMITH_ENDPOINT'] = userdata.get('LANGSMITH_ENDPOINT')\n",
    "# os.environ['LANGSMITH_API_KEY'] = userdata.get('LANGSMITH_API_KEY')\n",
    "# os.environ['LANGSMITH_PROJECT'] = userdata.get('LANGSMITH_PROJECT')\n",
    "# os.environ['OPENAI_API_KEY'] = userdata.get('OPENAI_API_KEY')\n",
    "# os.environ['PINECONE_PJ_KEY'] = userdata.get('PINECONE_PJ_KEY')\n"
   ]
  },
  {
   "cell_type": "code",
   "execution_count": 2,
   "metadata": {},
   "outputs": [
    {
     "data": {
      "text/plain": [
       "True"
      ]
     },
     "execution_count": 2,
     "metadata": {},
     "output_type": "execute_result"
    }
   ],
   "source": [
    "from dotenv import load_dotenv\n",
    "load_dotenv()"
   ]
  },
  {
   "cell_type": "code",
   "execution_count": 4,
   "metadata": {
    "colab": {
     "base_uri": "https://localhost:8080/"
    },
    "executionInfo": {
     "elapsed": 26347,
     "status": "ok",
     "timestamp": 1752635046675,
     "user": {
      "displayName": "seongkyu han",
      "userId": "12944266547765922383"
     },
     "user_tz": -540
    },
    "id": "iBoZT-SOL_no",
    "outputId": "4189cfff-9db0-47e2-dd4b-bcc541608cc8"
   },
   "outputs": [],
   "source": [
    "# # 구글 드라이브 연동\n",
    "# from google.colab import drive\n",
    "# drive.mount('/content/drive')\n",
    "\n",
    "# BASE_PATH = '/content/drive/Othercomputers/내 노트북/Workspaces/deep_learning_multimodal_workspace/HanSeongGyu/05_multimodal_rag'"
   ]
  },
  {
   "cell_type": "code",
   "execution_count": 15,
   "metadata": {
    "ExecuteTime": {
     "end_time": "2025-07-16T02:28:49.498164Z",
     "start_time": "2025-07-16T02:28:48.070312Z"
    },
    "colab": {
     "base_uri": "https://localhost:8080/",
     "height": 124
    },
    "collapsed": true,
    "executionInfo": {
     "elapsed": 30,
     "status": "ok",
     "timestamp": 1752635056624,
     "user": {
      "displayName": "seongkyu han",
      "userId": "12944266547765922383"
     },
     "user_tz": -540
    },
    "id": "initial_id",
    "outputId": "4df2c38c-7953-4989-d5ba-1694e0fdedba"
   },
   "outputs": [
    {
     "name": "stdout",
     "output_type": "stream",
     "text": [
      "CPU times: total: 93.8 ms\n",
      "Wall time: 2.88 s\n"
     ]
    },
    {
     "data": {
      "text/plain": [
       "{'food1.jpg': '[(\"짜장면\", \"춘장, 돼지고기, 양파, 면, 카라멜\")]',\n",
       " 'food2.jpg': '[(\"핫도그\", \"소시지, 밀가루, 옥수수 가루, 계란, 우유, 케첩, 머스터드\")]',\n",
       " 'food3.jpg': '[(\"흑미 피자\", \"흑미 도우, 치즈, 올리브, 토마토, 양상추, 고기, 양파\")]'}"
      ]
     },
     "execution_count": 15,
     "metadata": {},
     "output_type": "execute_result"
    }
   ],
   "source": [
    "%%time\n",
    "\n",
    "# 사용 방법 예시 1\n",
    "\n",
    "from inferer import *\n",
    "\n",
    "names   = [\"food1.jpg\", \"food2.jpg\", \"food3.jpg\"]       # 이미지 파일 경로\n",
    "images  = [Inferer.to_pil_image(name) for name in names]    # 파일경로를 받아 PIL.Image 로 변환\n",
    "\n",
    "inferer = OpenAIInferer(\"gpt-4o-mini\", 0.0)                # 음식 이미지를 추론할 모델 선언\n",
    "results = inferer(images, names)                            # 이미지 목록과 이름 목록을 받아서 추론 시작\n",
    "results                                                     # 결과"
   ]
  },
  {
   "cell_type": "code",
   "execution_count": 16,
   "metadata": {},
   "outputs": [
    {
     "name": "stdout",
     "output_type": "stream",
     "text": [
      "\n",
      "[INFO] 처리 중: food1.jpg - 짜장면\n",
      "[RESULT] 짜장면\n",
      "드신 메뉴인 '메뉴명 : 짜장면, 은 칼로리: 600kcal' 입니다.\n",
      "\n",
      "오늘의 1일 권장 섭취량(권장 kcal)은 사용자의 신체 정보가 입력되지 않아, 평균 성인 남성 기준(2,500kcal)으로 계산하겠습니다.  \n",
      "남은 권장 섭취량은 2,500 - 600 = 1,900kcal 입니다. (이전 식사의 kcal 정보가 없으므로, 오늘 첫 식사로 가정합니다.)\n",
      "\n",
      "방금 드신 짜장면의 열량인 600kcal를 빼시려면  \n",
      "- 빠르게 걷기 90분 (약 600kcal)  \n",
      "- 자전거 타기(중간 강도) 70분 (약 600kcal)  \n",
      "- 줄넘기(중간 강도) 50분 (약 600kcal)  \n",
      "정도의 운동이 필요합니다.\n",
      "\n",
      "남은 섭취량 1,900kcal의 추천 식단은  \n",
      "- 닭가슴살 샐러드 200g (약 220kcal)  \n",
      "- 고구마 150g (약 180kcal)  \n",
      "- 현미밥 1공기(210g) (약 300kcal)  \n",
      "- 두부구이 100g (약 120kcal)  \n",
      "- 바나나 1개(100g) (약 90kcal)  \n",
      "- 연어구이 100g (약 250kcal)  \n",
      "- 야채스틱(오이, 당근 등) 100g (약 40kcal)  \n",
      "등으로 구성하실 수 있습니다.\n",
      "\n",
      "더 정확한 권장 섭취량과 맞춤 식단/운동을 원하시면 신체 정보(성별, 나이, 키, 체중, 목표 등)를 입력해 주세요!\n",
      "\n",
      "\n",
      "[INFO] 처리 중: food2.jpg - 핫도그\n",
      "[RESULT] 핫도그\n",
      "드신 메뉴인 '핫도그'는 '칼로리: 250kcal' 입니다.\n",
      "\n",
      "오늘의 1일 권장 섭취량을 계산하기 위해 신체 정보 및 조건이 필요합니다. 입력하신 신체 정보가 부족하여, 평균적인 성인 남성(30세, 170cm, 70kg, 활동량 보통 기준) 기준으로 1일 권장 섭취량을 약 2,400kcal로 가정하겠습니다.\n",
      "\n",
      "오늘의 1일 권장 섭취량(2,400kcal) 중 2,150kcal(=2,400 - 250) 남았습니다.\n",
      "\n",
      "방금 드신 핫도그의 열량인 250kcal를 빼시려면  \n",
      "- 빠르게 걷기 60분 (약 250kcal 소모)  \n",
      "- 자전거 타기(중간 강도) 40분 (약 250kcal 소모)  \n",
      "- 줄넘기(보통 속도) 25분 (약 250kcal 소모)  \n",
      "을 하셔야 합니다.\n",
      "\n",
      "남은 섭취량 2,150kcal의 추천 식단은  \n",
      "- 닭가슴살 샐러드 200g 220kcal  \n",
      "- 현미밥 210g 300kcal  \n",
      "- 구운 연어 150g 280kcal  \n",
      "- 두부구이 100g 110kcal  \n",
      "- 삶은 달걀 2개 150kcal  \n",
      "- 바나나 1개 90kcal  \n",
      "등으로 구성하실 수 있습니다.\n",
      "\n",
      "정확한 권장 섭취량과 맞춤 식단/운동을 원하시면 키, 몸무게, 성별, 목표(감량/유지/증량) 등의 정보를 입력해 주세요!\n",
      "\n",
      "\n",
      "[INFO] 처리 중: food3.jpg - 흑미 피자\n",
      "[RESULT] 흑미 피자\n",
      "드신 메뉴인 '메뉴명 : 흑미 피자'는 '칼로리: 300kcal' 입니다.  \n",
      "오늘의 1일 권장 섭취량(권장 kcal)은 사용자의 신체 정보가 입력되지 않아, 평균 성인 남성 기준 2,500kcal로 가정하겠습니다.  \n",
      "남은 권장 섭취량은 2,500 - 300 = 2,200kcal 입니다. (이전 식사의 kcal 정보가 없으므로 제외)\n",
      "\n",
      "방금 드신 흑미 피자의 열량인 300kcal를 빼시려면  \n",
      "- 빠르게 걷기 60분 (약 300kcal 소모)  \n",
      "- 자전거 타기(중간 강도) 40분 (약 300kcal 소모)  \n",
      "- 줄넘기(보통 속도) 30분 (약 300kcal 소모)  \n",
      "정도의 운동이 필요합니다.\n",
      "\n",
      "남은 섭취량(2,200kcal)의 추천 식단은  \n",
      "- 닭가슴살 샐러드 200g (220kcal)  \n",
      "- 현미밥 1공기(210g, 300kcal)  \n",
      "- 두부구이 150g (180kcal)  \n",
      "- 고등어구이 100g (200kcal)  \n",
      "- 바나나 1개 (90kcal)  \n",
      "등을 조합하여 균형 잡힌 식사를 하시는 것을 추천드립니다.\n",
      "\n",
      "추가로 신체 정보(키, 몸무게, 성별, 활동량 등)를 입력해주시면 더 정확한 권장 섭취량과 맞춤 식단/운동을 안내해드릴 수 있습니다!\n",
      "\n"
     ]
    }
   ],
   "source": [
    "import os\n",
    "import ast\n",
    "from typing import List, Tuple\n",
    "from pinecone import Pinecone\n",
    "from langchain_pinecone import PineconeVectorStore\n",
    "from langchain_openai import OpenAIEmbeddings\n",
    "import openai\n",
    "from langchain_core.prompts import PromptTemplate\n",
    "from langchain_core.output_parsers import StrOutputParser\n",
    "from langchain_openai import ChatOpenAI\n",
    "\n",
    "# --- 1. Pinecone & Index 초기화 ---\n",
    "PINECONE_PJ_KEY = os.environ[\"PINECONE_PJ_KEY\"]\n",
    "INDEX_NAME = \"food-index\"\n",
    "EMBED_MODEL = \"text-embedding-3-small\"\n",
    "\n",
    "pc = Pinecone(api_key=PINECONE_PJ_KEY)\n",
    "index = pc.Index(INDEX_NAME)\n",
    "embeddings = OpenAIEmbeddings(model=EMBED_MODEL)\n",
    "vector_store = PineconeVectorStore(index=index, embedding=embeddings)\n",
    "\n",
    "# --- 2. Prediction 파싱 함수 ---\n",
    "def parse_prediction(pred_str: str) -> Tuple[str, str]:\n",
    "    parsed = ast.literal_eval(pred_str)\n",
    "    menu_name, ingredients = parsed[0]\n",
    "    return menu_name.strip(), ingredients.strip()\n",
    "\n",
    "# --- 3. Pinecone 검색 ---\n",
    "def search_menu(menu_name: str, k: int = 3) -> List[Tuple]:\n",
    "    return vector_store.similarity_search_with_score(query=menu_name, k=k)\n",
    "\n",
    "# --- 4. Pinecone 결과 → 컨텍스트 형식 변환 ---\n",
    "def build_context(matches: List[Tuple]) -> str:\n",
    "    lines = []\n",
    "    for doc, score in matches:\n",
    "        meta = doc.metadata or {}\n",
    "        name = meta.get(\"RCP_NM\", \"알 수 없는 메뉴\")\n",
    "        kcal = meta.get(\"INFO_ENG\", \"칼로리 정보 없음\")\n",
    "        lines.append(f\"- 메뉴명: {name}, 칼로리: {kcal} (유사도: {score:.2f})\")\n",
    "    return \"\\n\".join(lines)\n",
    "\n",
    "# --- 5. LLM 사용한 칼로리 추정 ---\n",
    "def ask_llm_calorie(menu_name: str) -> str:\n",
    "    prompt = (\n",
    "        f\"다음 음식의 대표적인 1인분 칼로리(kcal) 숫자만 알려주세요 **반드시 숫자만 반환!!**:\\n\"\n",
    "        f\"‘{menu_name}’\"\n",
    "    )\n",
    "    resp = openai.chat.completions.create(\n",
    "        model=\"gpt-4o-mini\",\n",
    "        messages=[{\"role\": \"user\", \"content\": prompt}],\n",
    "        temperature=0\n",
    "    )\n",
    "    return resp.choices[0].message.content.strip()\n",
    "\n",
    "# --- 6. 메뉴명 기반 컨텍스트 생성 + 칼로리 반환 개선 버전 ---\n",
    "def get_menu_context_with_threshold(\n",
    "    menu_name: str,\n",
    "    k: int = 1,\n",
    "    threshold: float = 0.4\n",
    ") -> Tuple[str, str]:\n",
    "    matches = search_menu(menu_name, k)\n",
    "    \n",
    "    if not matches or matches[0][1] < threshold:\n",
    "        # 유사도 낮을 경우 LLM으로 fallback\n",
    "        calorie = ask_llm_calorie(menu_name)\n",
    "        context = f\"- 메뉴명: {menu_name}, 칼로리: {calorie}\"\n",
    "        return context, calorie\n",
    "\n",
    "    # 유사한 문서가 충분함 → 문서에서 kcal 추출\n",
    "    context = build_context(matches)\n",
    "    # 가장 첫 번째 문서 정보 사용\n",
    "    doc, _ = matches[0]\n",
    "    calorie = doc.metadata.get(\"INFO_ENG\")\n",
    "\n",
    "    # 칼로리 정보가 누락되어 있을 경우 fallback\n",
    "    if not calorie or not str(calorie).isdigit():\n",
    "        calorie = ask_llm_calorie(menu_name)\n",
    "\n",
    "    return context, calorie\n",
    "\n",
    "# --- 7. LLM Chain 구성 ---\n",
    "llm = ChatOpenAI(model='gpt-4.1', temperature=0.3)\n",
    "output_parser = StrOutputParser()\n",
    "prompt = PromptTemplate.from_template(\"\"\"\n",
    "[System Instruction]\n",
    "- 당신은 영양&운동 전문 PT \"G-PT\"입니다.\n",
    "- 음식 이미지 분류 결과로 얻은 menu_name과 텍스트 정보를 바탕으로\n",
    "  섭취 열량 및 남은 권장 열량에 맞는 식단과 운동을 추천합니다.\n",
    "- Pinecone RAG에서 유사도 0.4 미만일 경우 LLM에게 fallback합니다.\n",
    "- 1일 권장 섭취량은 사용자의 입력 text 바탕으로 계산을 해서 사용합니다.\n",
    "- 음식 이미지가 여러 개일 경우 각 메뉴를 따로 분석합니다.\n",
    "\n",
    "[Input Data]\n",
    "{rag_context}\n",
    "{text}\n",
    "\n",
    "[Output Indicator]\n",
    "\" 드신 메뉴인 '메뉴명 :'{menu_name}, 은 '칼로리:' {calorie}kcal\" 입니다.\n",
    "오늘의 1일 권장 섭취량 (권장 kcal) 중 ((권장 kcal) - {calorie}- (이전 식사의 kcal)) 남았습니다.\n",
    "\n",
    "방금 드신 {menu_name}의 열량인 {calorie}kcal를 빼시려면\n",
    "xxx(운동명) xx분 (x)kcal,\n",
    "yyy(운동명) yy분 (y)kcal,\n",
    "zzz(운동명) zz분 (z)kcal 을 하셔야합니다.\n",
    "\n",
    "남은 섭취량 ((권장 kcal) - {calorie} - (이전 식사의 kcal))의 추천 식단은\n",
    "oooo(음식명) oo(양) o(kcal),\n",
    "pppp(음식명) pp(양) p(kcal),\n",
    "qqqq(음식명) qq(양) q(kcal)입니다.\n",
    "\"\"\")\n",
    "chain = prompt | llm | output_parser\n",
    "\n",
    "# --- 8. Prompt chain 호출 ---\n",
    "def analyze_meal(rag_context: str, text: str, menu_name: str, calorie: str) -> str:\n",
    "    return chain.invoke({\n",
    "        'rag_context': rag_context,\n",
    "        'text': text,\n",
    "        'menu_name': menu_name,\n",
    "        'calorie': calorie,\n",
    "    })\n",
    "\n",
    "# --- 9. 실행부 ---\n",
    "if __name__ == '__main__':\n",
    "    # 테스트용 예시 results 딕셔너리\n",
    "\n",
    "    parsed_items = []\n",
    "    for img_path, pred_str in results.items():\n",
    "        try:\n",
    "            menu_name, ingredients = parse_prediction(pred_str)\n",
    "            parsed_items.append((img_path, menu_name, ingredients))\n",
    "        except Exception as e:\n",
    "            print(f\"[ERROR] {img_path}: {e}\")\n",
    "\n",
    "    for img_path, menu_name, ingredients in parsed_items:\n",
    "        print(f\"\\n[INFO] 처리 중: {img_path} - {menu_name}\")\n",
    "        try:\n",
    "            rag_ctx = get_menu_context_with_threshold(menu_name=menu_name)\n",
    "            calorie = ask_llm_calorie(menu_name)\n",
    "            text = \"사용자가 입력한 신체 정보 및 조건 텍스트\"  # 예를 들면 키, 몸무게 등\n",
    "            result = analyze_meal(rag_ctx, text, menu_name, calorie)\n",
    "            print(f\"[RESULT] {menu_name}\\n{result}\\n\")\n",
    "        except Exception as e:\n",
    "            print(f\"[ERROR] {img_path}: {e}\")\n",
    "\n"
   ]
  },
  {
   "cell_type": "code",
   "execution_count": null,
   "metadata": {},
   "outputs": [],
   "source": []
  }
 ],
 "metadata": {
  "colab": {
   "provenance": []
  },
  "kernelspec": {
   "display_name": "deep_learning_nlp_env",
   "language": "python",
   "name": "python3"
  },
  "language_info": {
   "codemirror_mode": {
    "name": "ipython",
    "version": 3
   },
   "file_extension": ".py",
   "mimetype": "text/x-python",
   "name": "python",
   "nbconvert_exporter": "python",
   "pygments_lexer": "ipython3",
   "version": "3.12.11"
  }
 },
 "nbformat": 4,
 "nbformat_minor": 0
}
