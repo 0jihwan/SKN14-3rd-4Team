{
 "cells": [
  {
   "metadata": {},
   "cell_type": "markdown",
   "source": [
    "# inferer.py 사용 방법\n",
    "\n",
    "## class Inferer\n",
    "음식 이미지 추론 모델들의 공통속성이나 공통 동작을 정의할 부모클래스\n",
    "\n",
    "- to_pil_image(self, file_path:str)    :: local 경로에 있는 이미지의 경로를 전달받아 PIL.Image 클래스로 반환\n",
    "- image_to_base64(self, image: Image)  :: PIL.Image 를 받아 base64 문자열로 반환\n",
    "\n",
    "\n",
    "## class OpenAIInferer\n",
    "Inferer 클래스를 상속받은 자식 클래스. OpenAI 의 ChatOpenAI 클래스를 사용하여 질의 전달."
   ],
   "id": "6bf65e6f6dbaa2bc"
  },
  {
   "metadata": {
    "ExecuteTime": {
     "end_time": "2025-07-16T02:28:45.178880Z",
     "start_time": "2025-07-16T02:28:45.157972Z"
    }
   },
   "cell_type": "code",
   "source": [
    "################################################\n",
    "# 코드를 수행하는 환경에 맞춰서 아래 코드 실행 #\n",
    "################################################\n",
    "\n",
    "########################################################## local (pycharm) 환경일 경우\n",
    "from dotenv import load_dotenv\n",
    "load_dotenv()\n",
    "# 단, .env 파일을 만들고 그 안에 내용이 있어야 함.\n",
    "\n",
    "########################################################## Colab 환경일 경우\n",
    "# from google.colab import userdata\n",
    "# import os\n",
    "#\n",
    "# os.environ['LANGSMITH_TRACING']  = userdata.get('LANGSMITH_TRACING')\n",
    "# os.environ['LANGSMITH_ENDPOINT'] = userdata.get('LANGSMITH_ENDPOINT')\n",
    "# os.environ['LANGSMITH_API_KEY']  = userdata.get('LANGSMITH_API_KEY')\n",
    "# os.environ['LANGSMITH_PROJECT']  = userdata.get('LANGSMITH_PROJECT')\n",
    "# os.environ['OPENAI_API_KEY']     = userdata.get('OPENAI_API_KEY')\n",
    "\n",
    "########################################################## Streamlit cloud 에 배포할 때\n",
    "# import streamlit as st\n",
    "# import os\n",
    "#\n",
    "# os.environ['LANGSMITH_TRACING']  = st.secrets['LANGSMITH_TRACING']\n",
    "# os.environ['LANGSMITH_ENDPOINT'] = st.secrets['LANGSMITH_ENDPOINT']\n",
    "# os.environ['LANGSMITH_API_KEY']  = st.secrets['LANGSMITH_API_KEY']\n",
    "# os.environ['LANGSMITH_PROJECT']  = st.secrets['LANGSMITH_PROJECT']\n",
    "# os.environ['OPENAI_API_KEY']     = st.secrets['OPENAI_API_KEY']"
   ],
   "id": "8681d39dbc117474",
   "outputs": [
    {
     "data": {
      "text/plain": [
       "True"
      ]
     },
     "execution_count": 2,
     "metadata": {},
     "output_type": "execute_result"
    }
   ],
   "execution_count": 2
  },
  {
   "cell_type": "code",
   "id": "initial_id",
   "metadata": {
    "collapsed": true,
    "ExecuteTime": {
     "end_time": "2025-07-16T02:28:49.498164Z",
     "start_time": "2025-07-16T02:28:48.070312Z"
    }
   },
   "source": [
    "%%time\n",
    "\n",
    "# 사용 방법 예시 1\n",
    "\n",
    "from inferer import *\n",
    "\n",
    "names   = [\"./food1.jpg\", \"./food2.jpg\", \"food3.jpg\"]       # 이미지 파일 경로\n",
    "images  = [Inferer.to_pil_image(name) for name in names]    # 파일경로를 받아 PIL.Image 로 변환\n",
    "\n",
    "inferer = OpenAIInferer(\"gpt-4.1-nano\", 0.0)                # 음식 이미지를 추론할 모델 선언\n",
    "results = inferer(images, names)                            # 이미지 목록과 이름 목록을 받아서 추론 시작\n",
    "results                                                     # 결과"
   ],
   "outputs": [
    {
     "name": "stdout",
     "output_type": "stream",
     "text": [
      "CPU times: total: 453 ms\n",
      "Wall time: 1.42 s\n"
     ]
    },
    {
     "data": {
      "text/plain": [
       "{'./food2.jpg': '[(\"핫도그\", \"소시지, 빵, 케첩\")]',\n",
       " 'food3.jpg': '[(\"블랙 피자\", \"치즈, 토마토, 버섯, 올리브, 양파, 피망, 블랙 크러스트\")]',\n",
       " './food1.jpg': '[(\"짜장면\", \"춘장, 돼지고기, 양파, 면, 카라멜\")]'}"
      ]
     },
     "execution_count": 3,
     "metadata": {},
     "output_type": "execute_result"
    }
   ],
   "execution_count": 3
  },
  {
   "metadata": {
    "collapsed": true,
    "ExecuteTime": {
     "end_time": "2025-07-16T02:28:49.498164Z",
     "start_time": "2025-07-16T02:28:48.070312Z"
    }
   },
   "cell_type": "code",
   "outputs": [
    {
     "name": "stdout",
     "output_type": "stream",
     "text": [
      "CPU times: total: 453 ms\n",
      "Wall time: 1.42 s\n"
     ]
    },
    {
     "data": {
      "text/plain": [
       "{'./food2.jpg': '[(\"핫도그\", \"소시지, 빵, 케첩\")]',\n",
       " 'food3.jpg': '[(\"블랙 피자\", \"치즈, 토마토, 버섯, 올리브, 양파, 피망, 블랙 크러스트\")]',\n",
       " './food1.jpg': '[(\"짜장면\", \"춘장, 돼지고기, 양파, 면, 카라멜\")]'}"
      ]
     },
     "execution_count": 3,
     "metadata": {},
     "output_type": "execute_result"
    }
   ],
   "execution_count": 3,
   "source": [
    "%%time\n",
    "\n",
    "# 사용 방법 예시 2\n",
    "## OpenAIInferer 모델을 선언할 때 파라미터를 주지 않아도 기본값 설정되어있음.\n",
    "\n",
    "from inferer import *\n",
    "\n",
    "names   = [\"./food1.jpg\", \"./food2.jpg\", \"food3.jpg\"]       # 이미지 파일 경로\n",
    "images  = [Inferer.to_pil_image(name) for name in names]    # 파일경로를 받아 PIL.Image 로 변환\n",
    "\n",
    "inferer = OpenAIInferer()                                   # 음식 이미지를 추론할 모델 선언\n",
    "results = inferer(images, names)                            # 이미지 목록과 이름 목록을 받아서 추론 시작\n",
    "results                                                     # 결과"
   ],
   "id": "a7747b0246575c17"
  },
  {
   "metadata": {
    "collapsed": true,
    "ExecuteTime": {
     "end_time": "2025-07-16T02:28:49.498164Z",
     "start_time": "2025-07-16T02:28:48.070312Z"
    }
   },
   "cell_type": "code",
   "outputs": [
    {
     "name": "stdout",
     "output_type": "stream",
     "text": [
      "CPU times: total: 453 ms\n",
      "Wall time: 1.42 s\n"
     ]
    },
    {
     "data": {
      "text/plain": [
       "{'./food2.jpg': '[(\"핫도그\", \"소시지, 빵, 케첩\")]',\n",
       " 'food3.jpg': '[(\"블랙 피자\", \"치즈, 토마토, 버섯, 올리브, 양파, 피망, 블랙 크러스트\")]',\n",
       " './food1.jpg': '[(\"짜장면\", \"춘장, 돼지고기, 양파, 면, 카라멜\")]'}"
      ]
     },
     "execution_count": 3,
     "metadata": {},
     "output_type": "execute_result"
    }
   ],
   "execution_count": 3,
   "source": [
    "%%time\n",
    "\n",
    "# 사용 방법 예시 3\n",
    "## inferer(images, new_names) 처럼, 추론을 시작할 때 results 에 들어갈 키값을 별도로 지정할 수 있다.\n",
    "\n",
    "from inferer import *\n",
    "\n",
    "names   = [\"./food1.jpg\", \"./food2.jpg\", \"food3.jpg\"]       # 이미지 파일 경로\n",
    "images  = [Inferer.to_pil_image(name) for name in names]    # 파일경로를 받아 PIL.Image 로 변환\n",
    "\n",
    "new_names = [\"1번음식\", \"2번음식\", \"3번음식\"]\n",
    "\n",
    "inferer = OpenAIInferer(\"gpt-4.1-nano\", 0.0)                # 음식 이미지를 추론할 모델 선언\n",
    "results = inferer(images, new_names)                        # 이미지 목록과 이름 목록을 받아서 추론 시작\n",
    "results                                                     # 결과"
   ],
   "id": "6e039ee4f1624ae2"
  }
 ],
 "metadata": {
  "kernelspec": {
   "display_name": "Python 3",
   "language": "python",
   "name": "python3"
  },
  "language_info": {
   "codemirror_mode": {
    "name": "ipython",
    "version": 2
   },
   "file_extension": ".py",
   "mimetype": "text/x-python",
   "name": "python",
   "nbconvert_exporter": "python",
   "pygments_lexer": "ipython2",
   "version": "2.7.6"
  }
 },
 "nbformat": 4,
 "nbformat_minor": 5
}
